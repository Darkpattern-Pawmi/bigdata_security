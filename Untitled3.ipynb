{
  "nbformat": 4,
  "nbformat_minor": 0,
  "metadata": {
    "colab": {
      "provenance": [],
      "mount_file_id": "1NRc38m9ksPIEPYE4x3hTylOGFp0NufIJ",
      "authorship_tag": "ABX9TyOc6g3rK6jF8pWysN2j6vbE",
      "include_colab_link": true
    },
    "kernelspec": {
      "name": "python3",
      "display_name": "Python 3"
    },
    "language_info": {
      "name": "python"
    }
  },
  "cells": [
    {
      "cell_type": "markdown",
      "metadata": {
        "id": "view-in-github",
        "colab_type": "text"
      },
      "source": [
        "<a href=\"https://colab.research.google.com/github/waaterr1208/bigdata_security/blob/main/Untitled3.ipynb\" target=\"_parent\"><img src=\"https://colab.research.google.com/assets/colab-badge.svg\" alt=\"Open In Colab\"/></a>"
      ]
    },
    {
      "cell_type": "code",
      "execution_count": 59,
      "metadata": {
        "id": "eqehTUitbxaV"
      },
      "outputs": [],
      "source": [
        "import pandas as pd\n",
        "from sklearn.model_selection import train_test_split\n",
        "from sklearn.linear_model import LogisticRegression\n",
        "from sklearn.metrics import accuracy_score, classification_report\n",
        "from sklearn.feature_extraction.text import CountVectorizer\n",
        "from sklearn.feature_extraction.text import TfidfVectorizer"
      ]
    },
    {
      "cell_type": "code",
      "source": [
        "import re\n",
        "import string\n",
        "import nltk\n",
        "from nltk.corpus import stopwords\n",
        "from nltk.tokenize import word_tokenize\n",
        "from nltk.stem import WordNetLemmatizer"
      ],
      "metadata": {
        "id": "fwx_uUleUxBJ"
      },
      "execution_count": 60,
      "outputs": []
    },
    {
      "cell_type": "code",
      "source": [
        "nltk.download('punkt')\n",
        "nltk.download('stopwords')\n",
        "nltk.download('wordnet')"
      ],
      "metadata": {
        "colab": {
          "base_uri": "https://localhost:8080/"
        },
        "id": "Kzge5dM-U1DH",
        "outputId": "284e448a-1f0e-4dd4-df24-3bc7c08f8233"
      },
      "execution_count": 61,
      "outputs": [
        {
          "output_type": "stream",
          "name": "stderr",
          "text": [
            "[nltk_data] Downloading package punkt to /root/nltk_data...\n",
            "[nltk_data]   Package punkt is already up-to-date!\n",
            "[nltk_data] Downloading package stopwords to /root/nltk_data...\n",
            "[nltk_data]   Package stopwords is already up-to-date!\n",
            "[nltk_data] Downloading package wordnet to /root/nltk_data...\n",
            "[nltk_data]   Package wordnet is already up-to-date!\n"
          ]
        },
        {
          "output_type": "execute_result",
          "data": {
            "text/plain": [
              "True"
            ]
          },
          "metadata": {},
          "execution_count": 61
        }
      ]
    },
    {
      "cell_type": "code",
      "source": [
        "from google.colab import drive\n",
        "drive.mount('/content/drive')"
      ],
      "metadata": {
        "id": "uyrvxPhqu6mh",
        "colab": {
          "base_uri": "https://localhost:8080/"
        },
        "outputId": "521dc173-e37d-4911-abf0-71b5c1a7efac"
      },
      "execution_count": 114,
      "outputs": [
        {
          "output_type": "stream",
          "name": "stdout",
          "text": [
            "Drive already mounted at /content/drive; to attempt to forcibly remount, call drive.mount(\"/content/drive\", force_remount=True).\n"
          ]
        }
      ]
    },
    {
      "source": [
        "!ls darkpatterntest_v1.csv"
      ],
      "cell_type": "code",
      "metadata": {
        "colab": {
          "base_uri": "https://localhost:8080/"
        },
        "id": "WU91tEl5ugXO",
        "outputId": "5b1bb518-05de-4790-9d75-3cb6eb5fbe85"
      },
      "execution_count": 141,
      "outputs": [
        {
          "output_type": "stream",
          "name": "stdout",
          "text": [
            "darkpatterntest_v1.csv\n"
          ]
        }
      ]
    },
    {
      "source": [
        "!file -i darkpatterntest_v1.csv"
      ],
      "cell_type": "code",
      "metadata": {
        "colab": {
          "base_uri": "https://localhost:8080/"
        },
        "id": "0ZXdRkqm0Hvi",
        "outputId": "fe94e3ea-d457-424c-c140-7536f232998f"
      },
      "execution_count": 142,
      "outputs": [
        {
          "output_type": "stream",
          "name": "stdout",
          "text": [
            "darkpatterntest_v1.csv: text/csv; charset=utf-8\n"
          ]
        }
      ]
    },
    {
      "source": [
        "!iconv -f latin1 -t utf8 darkpatterntest_v1.csv >darkpatterntest_v1_utf8.csv"
      ],
      "cell_type": "code",
      "metadata": {
        "id": "qHt5h5xk0Kc9"
      },
      "execution_count": 149,
      "outputs": []
    },
    {
      "source": [
        "data = pd.read_csv(\"darkpatterntest_v1_utf8.csv\")"
      ],
      "cell_type": "code",
      "metadata": {
        "id": "EE-9C4V10M3t"
      },
      "execution_count": 150,
      "outputs": []
    },
    {
      "cell_type": "code",
      "source": [
        "data['word_count'] = data['text'].apply(lambda x: len(str(x).split()))\n",
        "\n",
        "# 한 단어만 존재하는 행 제거\n",
        "data = data[data['word_count'] > 1]"
      ],
      "metadata": {
        "id": "sThRy7rwbQ__"
      },
      "execution_count": 151,
      "outputs": []
    },
    {
      "cell_type": "code",
      "source": [
        "# prompt: dark_patterns_test_utf8.csv의 target열을 lable로 하고 y로감\n",
        "\n",
        "y = data[\"target\"]\n"
      ],
      "metadata": {
        "id": "y9h8SiTZmNPU"
      },
      "execution_count": 152,
      "outputs": []
    },
    {
      "cell_type": "code",
      "source": [
        "print(data['target'].value_counts())"
      ],
      "metadata": {
        "colab": {
          "base_uri": "https://localhost:8080/"
        },
        "id": "o89DWCArpwxI",
        "outputId": "32bfc742-3103-4a2a-d284-9cfad275f34d"
      },
      "execution_count": 153,
      "outputs": [
        {
          "output_type": "stream",
          "name": "stdout",
          "text": [
            "target\n",
            "0    3968\n",
            "1    1500\n",
            "Name: count, dtype: int64\n"
          ]
        }
      ]
    },
    {
      "cell_type": "code",
      "source": [
        "texts = data['text']\n",
        "dark_patterns = data['target']\n",
        "urls = data['url']"
      ],
      "metadata": {
        "id": "oWHAgXCtDXN2"
      },
      "execution_count": 157,
      "outputs": []
    },
    {
      "source": [
        "import numpy as np\n",
        "\n",
        "texts = texts.replace(np.nan, '', regex=True)"
      ],
      "cell_type": "code",
      "metadata": {
        "id": "_6UvkYpjLxf8"
      },
      "execution_count": 158,
      "outputs": []
    },
    {
      "source": [
        "#data['text'] = data['text'].astype(str)"
      ],
      "cell_type": "code",
      "metadata": {
        "id": "2StNmUNFYwN2"
      },
      "execution_count": null,
      "outputs": []
    },
    {
      "cell_type": "code",
      "source": [
        "print(texts.head())"
      ],
      "metadata": {
        "colab": {
          "base_uri": "https://localhost:8080/"
        },
        "id": "0gYM1PC3ZTuC",
        "outputId": "aef582ea-9c5f-4d05-e2cd-7c261e23cbd7"
      },
      "execution_count": 159,
      "outputs": [
        {
          "output_type": "stream",
          "name": "stdout",
          "text": [
            "0                          Status:Only 3 left in stock\n",
            "1                                          Side Tables\n",
            "2    Sprint customers can call T-Mobile Care or vis...\n",
            "3                             Microsoft Power Platform\n",
            "4    Â¤While supplies last, order and purchase a Ga...\n",
            "Name: text, dtype: object\n"
          ]
        }
      ]
    },
    {
      "cell_type": "code",
      "source": [
        "def preprocess_text(text):\n",
        "\n",
        "    # 소문자 변환\n",
        "    text = text.lower()\n",
        "\n",
        "    # 특수 문자 제거\n",
        "    text = re.sub(r'[%s]' % re.escape(string.punctuation), '', text)\n",
        "\n",
        "    # 토큰화\n",
        "    tokens = word_tokenize(text)\n",
        "\n",
        "    # 불용어 제거\n",
        "    stop_words = set(stopwords.words('english'))\n",
        "    tokens = [word for word in tokens if word not in stop_words]\n",
        "\n",
        "    # 어간 추출 또는 표제어 추출\n",
        "    lemmatizer = WordNetLemmatizer()\n",
        "    tokens = [lemmatizer.lemmatize(word) for word in tokens]\n",
        "\n",
        "    # 공백 제거 및 다시 문장으로 결합\n",
        "    preprocessed_text = ' '.join(tokens)\n",
        "\n",
        "    return preprocessed_text\n"
      ],
      "metadata": {
        "id": "r7GTi8ZEU6FY"
      },
      "execution_count": 160,
      "outputs": []
    },
    {
      "source": [
        "data.dtypes"
      ],
      "cell_type": "code",
      "metadata": {
        "colab": {
          "base_uri": "https://localhost:8080/"
        },
        "id": "3NFsp4F8YqkU",
        "outputId": "cc82f6fc-17bb-4114-c440-be11493b9fcb"
      },
      "execution_count": 161,
      "outputs": [
        {
          "output_type": "execute_result",
          "data": {
            "text/plain": [
              "text          object\n",
              "target        object\n",
              "url           object\n",
              "word_count     int64\n",
              "dtype: object"
            ]
          },
          "metadata": {},
          "execution_count": 161
        }
      ]
    },
    {
      "source": [
        "data['text'] = data['text'].astype(str)"
      ],
      "cell_type": "code",
      "metadata": {
        "id": "9rLdL6oBXbdZ"
      },
      "execution_count": 162,
      "outputs": []
    },
    {
      "cell_type": "code",
      "source": [
        "data['preprocessed_text'] = data['text'].apply(preprocess_text)"
      ],
      "metadata": {
        "id": "7dZ-IbdpVMP6"
      },
      "execution_count": 163,
      "outputs": []
    },
    {
      "cell_type": "code",
      "source": [
        "print(data['preprocessed_text'].head())"
      ],
      "metadata": {
        "colab": {
          "base_uri": "https://localhost:8080/"
        },
        "id": "R9N2xQ_LR-rS",
        "outputId": "55534dea-a133-4d40-d875-56bff1bad264"
      },
      "execution_count": 164,
      "outputs": [
        {
          "output_type": "stream",
          "name": "stdout",
          "text": [
            "0                              statusonly 3 left stock\n",
            "1                                           side table\n",
            "2    sprint customer call tmobile care visit select...\n",
            "3                             microsoft power platform\n",
            "4    â¤while supply last order purchase galaxy watc...\n",
            "Name: preprocessed_text, dtype: object\n"
          ]
        }
      ]
    },
    {
      "cell_type": "code",
      "source": [
        "#url_presence = [1 if urlparse(url).netloc else 0 for url in urls]"
      ],
      "metadata": {
        "id": "8LU1HtVGE_hh"
      },
      "execution_count": 63,
      "outputs": []
    },
    {
      "cell_type": "code",
      "source": [
        "def extract_text_features(preprocessed_text):\n",
        "    # 단어 빈도 피처 추출\n",
        "    count_vectorizer = CountVectorizer()\n",
        "    word_freq_features = count_vectorizer.fit_transform(texts)\n",
        "\n",
        "    # TF-IDF 피처 추출\n",
        "    tfidf_vectorizer = TfidfVectorizer()\n",
        "    tfidf_vectorizer.fit(texts)\n",
        "    tfidf_features = tfidf_vectorizer.fit_transform(texts)\n",
        "\n",
        "    # 문장 길이 피처 추출\n",
        "    text_lengths = [len(text) for text in texts]\n",
        "\n",
        "    # URL 포함 여부 피처 추가\n",
        "    #features = pd.DataFrame(word_freq_features.toarray(), columns=count_vectorizer.get_feature_names_out())\n",
        "\n",
        "    # 단어 빈도 피처를 DataFrame으로 변환\n",
        "    features = pd.DataFrame(word_freq_features.toarray(), columns=count_vectorizer.get_feature_names_out())\n",
        "\n",
        "    # tfidf_features를 DataFrame으로 추가\n",
        "    tfidf_df = pd.DataFrame(tfidf_features.toarray(), columns=tfidf_vectorizer.get_feature_names_out())\n",
        "    features = pd.concat([features, tfidf_df], axis=1)\n",
        "\n",
        "    # text_length를 새 열로 추가\n",
        "    features['text_length'] = text_lengths\n",
        "\n",
        "    # url_presence를 새 열로 추가\n",
        "    #features['url_presence'] = url_presence\n",
        "\n",
        "    return features"
      ],
      "metadata": {
        "id": "r8CzWflbFbbT"
      },
      "execution_count": 165,
      "outputs": []
    },
    {
      "cell_type": "code",
      "source": [
        "features = extract_text_features(texts)"
      ],
      "metadata": {
        "id": "QSr0DgBlKdwJ"
      },
      "execution_count": 166,
      "outputs": []
    },
    {
      "source": [
        "print(features)"
      ],
      "cell_type": "code",
      "metadata": {
        "colab": {
          "base_uri": "https://localhost:8080/"
        },
        "id": "vJEYjD7VfKOt",
        "outputId": "c40902b9-e785-47e1-ffd0-e5e9854be9d5"
      },
      "execution_count": 167,
      "outputs": [
        {
          "output_type": "stream",
          "name": "stdout",
          "text": [
            "      00  000  0000  001  00am  00days00hours47minutes36seconds  00footnote  \\\n",
            "0      0    0     0    0     0                                0           0   \n",
            "1      0    0     0    0     0                                0           0   \n",
            "2      0    0     0    0     0                                0           0   \n",
            "3      0    0     0    0     0                                0           0   \n",
            "4      0    0     0    0     0                                0           0   \n",
            "...   ..  ...   ...  ...   ...                              ...         ...   \n",
            "5463   0    0     0    0     0                                0           0   \n",
            "5464   0    0     0    0     0                                0           0   \n",
            "5465   0    0     0    0     0                                0           0   \n",
            "5466   0    0     0    0     0                                0           0   \n",
            "5467   0    0     0    0     0                                0           0   \n",
            "\n",
            "      00hours  00msrp  00or  ...   â¹   ê¾   ëª   ëµ  îµî  î½î¹îº  \\\n",
            "0           0       0     0  ...  0.0  0.0  0.0  0.0  0.0     0.0   \n",
            "1           0       0     0  ...  0.0  0.0  0.0  0.0  0.0     0.0   \n",
            "2           0       0     0  ...  0.0  0.0  0.0  0.0  0.0     0.0   \n",
            "3           0       0     0  ...  0.0  0.0  0.0  0.0  0.0     0.0   \n",
            "4           0       0     0  ...  0.0  0.0  0.0  0.0  0.0     0.0   \n",
            "...       ...     ...   ...  ...  ...  ...  ...  ...  ...     ...   \n",
            "5463        0       0     0  ...  0.0  0.0  0.0  0.0  0.0     0.0   \n",
            "5464        0       0     0  ...  0.0  0.0  0.0  0.0  0.0     0.0   \n",
            "5465        0       0     0  ...  0.0  0.0  0.0  0.0  0.0     0.0   \n",
            "5466        0       0     0  ...  0.0  0.0  0.0  0.0  0.0     0.0   \n",
            "5467        0       0     0  ...  0.0  0.0  0.0  0.0  0.0     0.0   \n",
            "\n",
            "      ð¹slovakiaenglishsloveniaenglishespanyacatal  ðºð  ð¾ñ  text_length  \n",
            "0                                              0.0  0.0  0.0           27  \n",
            "1                                              0.0  0.0  0.0           11  \n",
            "2                                              0.0  0.0  0.0          180  \n",
            "3                                              0.0  0.0  0.0           24  \n",
            "4                                              0.0  0.0  0.0          628  \n",
            "...                                            ...  ...  ...          ...  \n",
            "5463                                           0.0  0.0  0.0           17  \n",
            "5464                                           0.0  0.0  0.0           30  \n",
            "5465                                           0.0  0.0  0.0           12  \n",
            "5466                                           0.0  0.0  0.0           35  \n",
            "5467                                           0.0  0.0  0.0           20  \n",
            "\n",
            "[5468 rows x 12881 columns]\n"
          ]
        }
      ]
    },
    {
      "cell_type": "code",
      "source": [
        "X = features\n",
        "X_train, X_test, y_train, y_test = train_test_split(X, y, test_size=0.2, random_state=42)"
      ],
      "metadata": {
        "id": "ji7c3eJRnJEl"
      },
      "execution_count": 175,
      "outputs": []
    },
    {
      "source": [
        "print(y_train.value_counts())"
      ],
      "cell_type": "code",
      "metadata": {
        "colab": {
          "base_uri": "https://localhost:8080/"
        },
        "id": "F_XTEYN4nxx-",
        "outputId": "1c075a8a-c967-4f89-97ea-5a851510fc3d"
      },
      "execution_count": 176,
      "outputs": [
        {
          "output_type": "stream",
          "name": "stdout",
          "text": [
            "target\n",
            "0    3185\n",
            "1    1189\n",
            "Name: count, dtype: int64\n"
          ]
        }
      ]
    },
    {
      "cell_type": "code",
      "source": [
        "model = LogisticRegression()\n",
        "model.fit(X_train, y_train)\n"
      ],
      "metadata": {
        "colab": {
          "base_uri": "https://localhost:8080/",
          "height": 244
        },
        "id": "dLHaAiB4tkQC",
        "outputId": "348a7755-6f0b-4551-bd82-7183548e3829"
      },
      "execution_count": 177,
      "outputs": [
        {
          "output_type": "stream",
          "name": "stderr",
          "text": [
            "/usr/local/lib/python3.10/dist-packages/sklearn/linear_model/_logistic.py:458: ConvergenceWarning: lbfgs failed to converge (status=1):\n",
            "STOP: TOTAL NO. of ITERATIONS REACHED LIMIT.\n",
            "\n",
            "Increase the number of iterations (max_iter) or scale the data as shown in:\n",
            "    https://scikit-learn.org/stable/modules/preprocessing.html\n",
            "Please also refer to the documentation for alternative solver options:\n",
            "    https://scikit-learn.org/stable/modules/linear_model.html#logistic-regression\n",
            "  n_iter_i = _check_optimize_result(\n"
          ]
        },
        {
          "output_type": "execute_result",
          "data": {
            "text/plain": [
              "LogisticRegression()"
            ],
            "text/html": [
              "<style>#sk-container-id-2 {color: black;background-color: white;}#sk-container-id-2 pre{padding: 0;}#sk-container-id-2 div.sk-toggleable {background-color: white;}#sk-container-id-2 label.sk-toggleable__label {cursor: pointer;display: block;width: 100%;margin-bottom: 0;padding: 0.3em;box-sizing: border-box;text-align: center;}#sk-container-id-2 label.sk-toggleable__label-arrow:before {content: \"▸\";float: left;margin-right: 0.25em;color: #696969;}#sk-container-id-2 label.sk-toggleable__label-arrow:hover:before {color: black;}#sk-container-id-2 div.sk-estimator:hover label.sk-toggleable__label-arrow:before {color: black;}#sk-container-id-2 div.sk-toggleable__content {max-height: 0;max-width: 0;overflow: hidden;text-align: left;background-color: #f0f8ff;}#sk-container-id-2 div.sk-toggleable__content pre {margin: 0.2em;color: black;border-radius: 0.25em;background-color: #f0f8ff;}#sk-container-id-2 input.sk-toggleable__control:checked~div.sk-toggleable__content {max-height: 200px;max-width: 100%;overflow: auto;}#sk-container-id-2 input.sk-toggleable__control:checked~label.sk-toggleable__label-arrow:before {content: \"▾\";}#sk-container-id-2 div.sk-estimator input.sk-toggleable__control:checked~label.sk-toggleable__label {background-color: #d4ebff;}#sk-container-id-2 div.sk-label input.sk-toggleable__control:checked~label.sk-toggleable__label {background-color: #d4ebff;}#sk-container-id-2 input.sk-hidden--visually {border: 0;clip: rect(1px 1px 1px 1px);clip: rect(1px, 1px, 1px, 1px);height: 1px;margin: -1px;overflow: hidden;padding: 0;position: absolute;width: 1px;}#sk-container-id-2 div.sk-estimator {font-family: monospace;background-color: #f0f8ff;border: 1px dotted black;border-radius: 0.25em;box-sizing: border-box;margin-bottom: 0.5em;}#sk-container-id-2 div.sk-estimator:hover {background-color: #d4ebff;}#sk-container-id-2 div.sk-parallel-item::after {content: \"\";width: 100%;border-bottom: 1px solid gray;flex-grow: 1;}#sk-container-id-2 div.sk-label:hover label.sk-toggleable__label {background-color: #d4ebff;}#sk-container-id-2 div.sk-serial::before {content: \"\";position: absolute;border-left: 1px solid gray;box-sizing: border-box;top: 0;bottom: 0;left: 50%;z-index: 0;}#sk-container-id-2 div.sk-serial {display: flex;flex-direction: column;align-items: center;background-color: white;padding-right: 0.2em;padding-left: 0.2em;position: relative;}#sk-container-id-2 div.sk-item {position: relative;z-index: 1;}#sk-container-id-2 div.sk-parallel {display: flex;align-items: stretch;justify-content: center;background-color: white;position: relative;}#sk-container-id-2 div.sk-item::before, #sk-container-id-2 div.sk-parallel-item::before {content: \"\";position: absolute;border-left: 1px solid gray;box-sizing: border-box;top: 0;bottom: 0;left: 50%;z-index: -1;}#sk-container-id-2 div.sk-parallel-item {display: flex;flex-direction: column;z-index: 1;position: relative;background-color: white;}#sk-container-id-2 div.sk-parallel-item:first-child::after {align-self: flex-end;width: 50%;}#sk-container-id-2 div.sk-parallel-item:last-child::after {align-self: flex-start;width: 50%;}#sk-container-id-2 div.sk-parallel-item:only-child::after {width: 0;}#sk-container-id-2 div.sk-dashed-wrapped {border: 1px dashed gray;margin: 0 0.4em 0.5em 0.4em;box-sizing: border-box;padding-bottom: 0.4em;background-color: white;}#sk-container-id-2 div.sk-label label {font-family: monospace;font-weight: bold;display: inline-block;line-height: 1.2em;}#sk-container-id-2 div.sk-label-container {text-align: center;}#sk-container-id-2 div.sk-container {/* jupyter's `normalize.less` sets `[hidden] { display: none; }` but bootstrap.min.css set `[hidden] { display: none !important; }` so we also need the `!important` here to be able to override the default hidden behavior on the sphinx rendered scikit-learn.org. See: https://github.com/scikit-learn/scikit-learn/issues/21755 */display: inline-block !important;position: relative;}#sk-container-id-2 div.sk-text-repr-fallback {display: none;}</style><div id=\"sk-container-id-2\" class=\"sk-top-container\"><div class=\"sk-text-repr-fallback\"><pre>LogisticRegression()</pre><b>In a Jupyter environment, please rerun this cell to show the HTML representation or trust the notebook. <br />On GitHub, the HTML representation is unable to render, please try loading this page with nbviewer.org.</b></div><div class=\"sk-container\" hidden><div class=\"sk-item\"><div class=\"sk-estimator sk-toggleable\"><input class=\"sk-toggleable__control sk-hidden--visually\" id=\"sk-estimator-id-2\" type=\"checkbox\" checked><label for=\"sk-estimator-id-2\" class=\"sk-toggleable__label sk-toggleable__label-arrow\">LogisticRegression</label><div class=\"sk-toggleable__content\"><pre>LogisticRegression()</pre></div></div></div></div></div>"
            ]
          },
          "metadata": {},
          "execution_count": 177
        }
      ]
    },
    {
      "cell_type": "code",
      "source": [
        "y_pred = model.predict(X_test)"
      ],
      "metadata": {
        "id": "95KgpCI2tksN"
      },
      "execution_count": 178,
      "outputs": []
    },
    {
      "cell_type": "code",
      "source": [
        "accuracy = accuracy_score(y_test, y_pred)\n",
        "print(\"Accuracy:\", accuracy)"
      ],
      "metadata": {
        "colab": {
          "base_uri": "https://localhost:8080/"
        },
        "id": "ZuE2yeq9tlsE",
        "outputId": "f2860909-597e-411c-b6e3-98c7484b8a0e"
      },
      "execution_count": 179,
      "outputs": [
        {
          "output_type": "stream",
          "name": "stdout",
          "text": [
            "Accuracy: 0.9661791590493601\n"
          ]
        }
      ]
    },
    {
      "cell_type": "code",
      "source": [
        "print(\"Classification Report:\")\n",
        "print(classification_report(y_test, y_pred))"
      ],
      "metadata": {
        "colab": {
          "base_uri": "https://localhost:8080/"
        },
        "id": "CYoZGIVatvoL",
        "outputId": "2db5a218-2111-46e2-bfda-5544460a38d0"
      },
      "execution_count": 181,
      "outputs": [
        {
          "output_type": "stream",
          "name": "stdout",
          "text": [
            "Classification Report:\n",
            "              precision    recall  f1-score   support\n",
            "\n",
            "           0       0.97      0.98      0.98       783\n",
            "           1       0.96      0.92      0.94       311\n",
            "\n",
            "    accuracy                           0.97      1094\n",
            "   macro avg       0.96      0.95      0.96      1094\n",
            "weighted avg       0.97      0.97      0.97      1094\n",
            "\n"
          ]
        }
      ]
    }
  ]
}