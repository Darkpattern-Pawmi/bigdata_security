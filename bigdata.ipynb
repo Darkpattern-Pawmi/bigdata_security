{
  "nbformat": 4,
  "nbformat_minor": 0,
  "metadata": {
    "colab": {
      "provenance": [],
      "collapsed_sections": [
        "sV9jnnOXiyPd",
        "WyuTepTtmq_9"
      ]
    },
    "kernelspec": {
      "name": "python3",
      "display_name": "Python 3"
    },
    "language_info": {
      "name": "python"
    }
  },
  "cells": [
    {
      "cell_type": "markdown",
      "source": [
        "# **Import**\n"
      ],
      "metadata": {
        "id": "ZeysnEH6iWP_"
      }
    },
    {
      "cell_type": "code",
      "execution_count": null,
      "metadata": {
        "id": "eqehTUitbxaV"
      },
      "outputs": [],
      "source": [
        "import pandas as pd\n",
        "# model\n",
        "from sklearn.model_selection import train_test_split\n",
        "from sklearn.svm import LinearSVC, SVC, OneClassSVM\n",
        "from sklearn.multiclass import OneVsRestClassifier\n",
        "from sklearn.linear_model import LogisticRegression\n",
        "from sklearn.ensemble import RandomForestClassifier\n",
        "from sklearn.metrics import accuracy_score, classification_report\n",
        "from sklearn.feature_extraction.text import CountVectorizer\n",
        "from sklearn.feature_extraction.text import TfidfVectorizer\n",
        "from textblob import TextBlob"
      ]
    },
    {
      "cell_type": "code",
      "source": [
        "import re\n",
        "import string\n",
        "import nltk\n",
        "from nltk.corpus import stopwords\n",
        "from nltk.tokenize import word_tokenize\n",
        "from nltk.stem import WordNetLemmatizer"
      ],
      "metadata": {
        "id": "fwx_uUleUxBJ"
      },
      "execution_count": null,
      "outputs": []
    },
    {
      "cell_type": "code",
      "source": [
        "nltk.download('punkt')\n",
        "nltk.download('stopwords')\n",
        "nltk.download('wordnet')"
      ],
      "metadata": {
        "colab": {
          "base_uri": "https://localhost:8080/"
        },
        "id": "Kzge5dM-U1DH",
        "outputId": "3439b83a-1bd5-46a0-863b-13ff1fc65c67"
      },
      "execution_count": null,
      "outputs": [
        {
          "output_type": "stream",
          "name": "stderr",
          "text": [
            "[nltk_data] Downloading package punkt to /root/nltk_data...\n",
            "[nltk_data]   Unzipping tokenizers/punkt.zip.\n",
            "[nltk_data] Downloading package stopwords to /root/nltk_data...\n",
            "[nltk_data]   Unzipping corpora/stopwords.zip.\n",
            "[nltk_data] Downloading package wordnet to /root/nltk_data...\n"
          ]
        },
        {
          "output_type": "execute_result",
          "data": {
            "text/plain": [
              "True"
            ]
          },
          "metadata": {},
          "execution_count": 3
        }
      ]
    },
    {
      "cell_type": "markdown",
      "source": [
        "# **DATA import**"
      ],
      "metadata": {
        "id": "0haDoWqtibuX"
      }
    },
    {
      "cell_type": "code",
      "source": [
        "from google.colab import drive\n",
        "drive.mount('/content/drive')"
      ],
      "metadata": {
        "id": "uyrvxPhqu6mh",
        "colab": {
          "base_uri": "https://localhost:8080/"
        },
        "outputId": "96987429-a8db-4854-bbba-77cad86fc5ad"
      },
      "execution_count": null,
      "outputs": [
        {
          "output_type": "stream",
          "name": "stdout",
          "text": [
            "Mounted at /content/drive\n"
          ]
        }
      ]
    },
    {
      "source": [
        "data = pd.read_csv(\"/content/drive/MyDrive/bigdata_dataset/dark_patterns_test.csv\")"
      ],
      "cell_type": "code",
      "metadata": {
        "id": "EE-9C4V10M3t"
      },
      "execution_count": null,
      "outputs": []
    },
    {
      "cell_type": "markdown",
      "source": [
        "# **function**"
      ],
      "metadata": {
        "id": "eXLrcVt9BUWN"
      }
    },
    {
      "cell_type": "code",
      "source": [
        "def tfidf(text_data):\n",
        "  # TF-IDF 벡터라이저 초기화\n",
        "  vectorizer = TfidfVectorizer()\n",
        "\n",
        "  # 벡터라이저를 사용하여 텍스트 데이터를 수치 벡터로 변환\n",
        "  tfidf_matrix = vectorizer.fit_transform(text_data)\n",
        "\n",
        "  # TF-IDF 벡터를 DataFrame으로 변환\n",
        "  tfidf_df = pd.DataFrame(tfidf_matrix.toarray(), columns=vectorizer.get_feature_names_out())\n",
        "\n",
        "  return tfidf_df"
      ],
      "metadata": {
        "id": "wNwxLtKOBWOx"
      },
      "execution_count": null,
      "outputs": []
    },
    {
      "cell_type": "markdown",
      "source": [
        "## **scaling**"
      ],
      "metadata": {
        "id": "6pNIbFnyihu5"
      }
    },
    {
      "cell_type": "code",
      "source": [
        "# data['word_count'] = data['Pattern String'].apply(lambda x: len(str(x).split()))\n",
        "\n",
        "# # 한 단어만 존재하는 행 제거\n",
        "# data = data[data['word_count'] > 1]"
      ],
      "metadata": {
        "id": "sThRy7rwbQ__"
      },
      "execution_count": null,
      "outputs": []
    },
    {
      "cell_type": "code",
      "source": [
        "# prompt: dark_patterns_test_utf8.csv의 target열을 lable로 하고 y로감\n",
        "\n",
        "y = data[\"Pattern Category\"]\n"
      ],
      "metadata": {
        "id": "y9h8SiTZmNPU"
      },
      "execution_count": null,
      "outputs": []
    },
    {
      "cell_type": "code",
      "source": [
        "print(data['Pattern String'].value_counts())"
      ],
      "metadata": {
        "colab": {
          "base_uri": "https://localhost:8080/"
        },
        "id": "o89DWCArpwxI",
        "outputId": "c01d611a-04a9-4ada-a6c0-a5d8406d14bf"
      },
      "execution_count": null,
      "outputs": [
        {
          "output_type": "stream",
          "name": "stdout",
          "text": [
            "Pattern String\n",
            "Only 1 left                                                                        26\n",
            "No, I don't feel lucky                                                             23\n",
            "An item you ordered is in high demand. No worries, we have reserved your order.    21\n",
            "Only 1 left in stock                                                               20\n",
            "Only 1 left!                                                                       16\n",
            "                                                                                   ..\n",
            "NO, THANKS. I DON'T LIKE DISCOUNTS                                                  1\n",
            "No thanks, I don't like discounts                                                   1\n",
            "No thanks, I'd rather pay full price.                                               1\n",
            "No thanks, I don't want the free gift.                                              1\n",
            "Save $148.98AUD ??49% Off                                                           1\n",
            "Name: count, Length: 1177, dtype: int64\n"
          ]
        }
      ]
    },
    {
      "cell_type": "code",
      "source": [
        "texts = data['Pattern String']\n",
        "dark_patterns = data['Pattern Category']"
      ],
      "metadata": {
        "id": "oWHAgXCtDXN2"
      },
      "execution_count": null,
      "outputs": []
    },
    {
      "source": [
        "import numpy as np\n",
        "\n",
        "texts = texts.replace(np.nan, '', regex=True)"
      ],
      "cell_type": "code",
      "metadata": {
        "id": "_6UvkYpjLxf8"
      },
      "execution_count": null,
      "outputs": []
    },
    {
      "source": [
        "#data['text'] = data['text'].astype(str)"
      ],
      "cell_type": "code",
      "metadata": {
        "id": "2StNmUNFYwN2"
      },
      "execution_count": null,
      "outputs": []
    },
    {
      "cell_type": "code",
      "source": [
        "print(texts.head())"
      ],
      "metadata": {
        "colab": {
          "base_uri": "https://localhost:8080/"
        },
        "id": "0gYM1PC3ZTuC",
        "outputId": "1308804a-1644-4c2e-f364-4e2ab2ff4369"
      },
      "execution_count": null,
      "outputs": [
        {
          "output_type": "stream",
          "name": "stdout",
          "text": [
            "0    Collin P. from Grandview Missouri just bought ...\n",
            "1    Faith in Glendale, United States purchased a C...\n",
            "2    Sharmeen Atif From Karachi just bought Stylish...\n",
            "3                           9 people are viewing this.\n",
            "4             5338 people viewed this in the last hour\n",
            "Name: Pattern String, dtype: object\n"
          ]
        }
      ]
    },
    {
      "cell_type": "code",
      "source": [
        "def preprocess_text(text):\n",
        "\n",
        "    # 소문자 변환\n",
        "    text = text.lower()\n",
        "\n",
        "    # 특수 문자 제거\n",
        "    text = re.sub(r'[%s]' % re.escape(string.punctuation), '', text)\n",
        "\n",
        "    # 토큰화\n",
        "    tokens = word_tokenize(text)\n",
        "\n",
        "    # 불용어 제거\n",
        "    stop_words = set(stopwords.words('english'))\n",
        "    tokens = [word for word in tokens if word not in stop_words]\n",
        "\n",
        "    # 어간 추출 또는 표제어 추출\n",
        "    lemmatizer = WordNetLemmatizer()\n",
        "    tokens = [lemmatizer.lemmatize(word) for word in tokens]\n",
        "\n",
        "    # 공백 제거 및 다시 문장으로 결합\n",
        "    preprocessed_text = ' '.join(tokens)\n",
        "\n",
        "    return preprocessed_text\n"
      ],
      "metadata": {
        "id": "r7GTi8ZEU6FY"
      },
      "execution_count": null,
      "outputs": []
    },
    {
      "source": [
        "data.dtypes"
      ],
      "cell_type": "code",
      "metadata": {
        "colab": {
          "base_uri": "https://localhost:8080/"
        },
        "id": "3NFsp4F8YqkU",
        "outputId": "0b958124-a185-4d5c-87ff-de96091a7743"
      },
      "execution_count": null,
      "outputs": [
        {
          "output_type": "execute_result",
          "data": {
            "text/plain": [
              "Pattern String       object\n",
              "Comment              object\n",
              "Pattern Category     object\n",
              "Pattern Type         object\n",
              "Where in website?    object\n",
              "Deceptive?           object\n",
              "Website Page         object\n",
              "dtype: object"
            ]
          },
          "metadata": {},
          "execution_count": 15
        }
      ]
    },
    {
      "source": [
        "data['Pattern String'] = data['Pattern String'].astype(str)"
      ],
      "cell_type": "code",
      "metadata": {
        "id": "9rLdL6oBXbdZ"
      },
      "execution_count": null,
      "outputs": []
    },
    {
      "cell_type": "code",
      "source": [
        "data['Pattern String'] = data['Pattern String'].apply(preprocess_text)"
      ],
      "metadata": {
        "id": "7dZ-IbdpVMP6"
      },
      "execution_count": null,
      "outputs": []
    },
    {
      "cell_type": "code",
      "source": [
        "print(data['Pattern String'].head())"
      ],
      "metadata": {
        "colab": {
          "base_uri": "https://localhost:8080/"
        },
        "id": "R9N2xQ_LR-rS",
        "outputId": "f43c3d42-824f-4745-b081-17139dbd5c1c"
      },
      "execution_count": null,
      "outputs": [
        {
          "output_type": "stream",
          "name": "stdout",
          "text": [
            "0    collin p grandview missouri bought burgundy tw...\n",
            "1    faith glendale united state purchased choose f...\n",
            "2    sharmeen atif karachi bought stylish metal gla...\n",
            "3                                     9 people viewing\n",
            "4                         5338 people viewed last hour\n",
            "Name: Pattern String, dtype: object\n"
          ]
        }
      ]
    },
    {
      "cell_type": "code",
      "source": [
        "from textblob import TextBlob\n",
        "# def extract_text_features(preprocessed_text):\n",
        "#     # 단어 빈도 피처 추출\n",
        "#     count_vectorizer = CountVectorizer()\n",
        "#     word_freq_features = count_vectorizer.fit_transform(preprocessed_text)\n",
        "\n",
        "#     # TF-IDF 피처 추출\n",
        "#     tfidf_vectorizer = TfidfVectorizer()\n",
        "#     tfidf_vectorizer.fit(preprocessed_text)\n",
        "#     tfidf_features = tfidf_vectorizer.fit_transform(preprocessed_text)\n",
        "\n",
        "#     # 감성 점수 계산\n",
        "#     sentiment_scores = preprocessed_text.apply(lambda x: TextBlob(x).sentiment.polarity)\n",
        "\n",
        "#     # 단어 빈도 피처를 DataFrame으로 변환\n",
        "#     features = pd.DataFrame(word_freq_features.toarray(), columns=count_vectorizer.get_feature_names_out())\n",
        "\n",
        "#     # tfidf_features를 DataFrame으로 추가\n",
        "#     tfidf_df = pd.DataFrame(tfidf_features.toarray(), columns=tfidf_vectorizer.get_feature_names_out())\n",
        "#     features = pd.concat([features, tfidf_df], axis=1)\n",
        "#     features = pd.DataFrame(\n",
        "#          data={\n",
        "#              'sentiment': sentiment_scores,\n",
        "#              'tf-idf': tfidf_features,\n",
        "#          }\n",
        "#      )\n",
        "\n",
        "#     return features\n",
        "\n",
        "# 특성 추출을 위한 함수 정의\n",
        "def extract_features(text):\n",
        "    # N-gram 벡터화\n",
        "    tfidf_vectorizer = TfidfVectorizer(ngram_range=(1, 3), min_df=2, max_df=0.95)\n",
        "    tfidf_features = tfidf_vectorizer.fit_transform(data[text])\n",
        "\n",
        "    # 감성 점수 계산\n",
        "    sentiment_scores = data[text].apply(lambda x: TextBlob(x).sentiment.polarity)\n",
        "\n",
        "    # DataFrame으로 특성 합치기\n",
        "    features = pd.DataFrame(\n",
        "        data={\n",
        "            'sentiment': sentiment_scores,\n",
        "        }\n",
        "    )\n",
        "    features = features.join(pd.DataFrame(tfidf_features.toarray(), columns=tfidf_vectorizer.get_feature_names_out()))\n",
        "\n",
        "    return features"
      ],
      "metadata": {
        "id": "r8CzWflbFbbT"
      },
      "execution_count": null,
      "outputs": []
    },
    {
      "cell_type": "code",
      "source": [
        "print(data.columns)"
      ],
      "metadata": {
        "colab": {
          "base_uri": "https://localhost:8080/"
        },
        "id": "lSqDu4ywQOJc",
        "outputId": "a1e169ec-a6b4-4c1c-f123-8cd423ec3881"
      },
      "execution_count": null,
      "outputs": [
        {
          "output_type": "stream",
          "name": "stdout",
          "text": [
            "Index(['Pattern String', 'Comment', 'Pattern Category', 'Pattern Type',\n",
            "       'Where in website?', 'Deceptive?', 'Website Page'],\n",
            "      dtype='object')\n"
          ]
        }
      ]
    },
    {
      "cell_type": "code",
      "source": [
        "features = extract_features('Pattern String')"
      ],
      "metadata": {
        "id": "QSr0DgBlKdwJ"
      },
      "execution_count": null,
      "outputs": []
    },
    {
      "cell_type": "markdown",
      "source": [
        "수동 추출 특성 끼워넣기"
      ],
      "metadata": {
        "id": "DfwXTfMT-2w8"
      }
    },
    {
      "cell_type": "code",
      "source": [
        "from sklearn.feature_extraction.text import TfidfVectorizer\n",
        "\n",
        "def tfidf(text):\n",
        "  # TF-IDF 벡터라이저 초기화\n",
        "  vectorizer = TfidfVectorizer()\n",
        "\n",
        "  # 텍스트 데이터를 TF-IDF 벡터로 변환\n",
        "  tfidf_matrix = vectorizer.fit_transform(data[text])\n",
        "\n",
        "  # # 벡터화된 데이터 확인\n",
        "  # print(tfidf_matrix.shape)\n",
        "\n",
        "  tfidf_matrix = vectorizer.fit_transform(data[text])\n",
        "\n",
        "  # 희소 행렬을 Dense 형태로 변환하고 데이터프레임으로 만들기\n",
        "  tfidf_df = pd.DataFrame(tfidf_matrix.toarray(), columns=vectorizer.get_feature_names_out())\n",
        "\n",
        "  return tfidf_df\n"
      ],
      "metadata": {
        "id": "5kalu8hzHJ9S"
      },
      "execution_count": null,
      "outputs": []
    },
    {
      "cell_type": "code",
      "source": [
        "# NaN 값을 빈 문자열로 대체\n",
        "data['Comment'] = data['Comment'].fillna('')\n"
      ],
      "metadata": {
        "id": "TZy95knhEfiy"
      },
      "execution_count": null,
      "outputs": []
    },
    {
      "cell_type": "code",
      "source": [
        "comment = tfidf('Comment')\n",
        "pattern_typr = tfidf('Pattern Type')\n",
        "location = tfidf('Where in website?')\n",
        "deceptive = tfidf('Deceptive?')\n",
        "\n",
        "# 기존 데이터프레임과 병합\n",
        "data = pd.concat([data, comment], axis=1)\n",
        "print(data)"
      ],
      "metadata": {
        "colab": {
          "base_uri": "https://localhost:8080/"
        },
        "id": "hhPTryTdB4EM",
        "outputId": "bed74599-b6da-4585-e163-0a16ce444c1f"
      },
      "execution_count": null,
      "outputs": [
        {
          "output_type": "stream",
          "name": "stdout",
          "text": [
            "                                         Pattern String  \\\n",
            "0     collin p grandview missouri bought burgundy tw...   \n",
            "1     faith glendale united state purchased choose f...   \n",
            "2     sharmeen atif karachi bought stylish metal gla...   \n",
            "3                                      9 people viewing   \n",
            "4                          5338 people viewed last hour   \n",
            "...                                                 ...   \n",
            "1813                                         13290 9900   \n",
            "1814                               offer valid add cart   \n",
            "1815                                                nan   \n",
            "1816                                                nan   \n",
            "1817                                   save 14898aud 49   \n",
            "\n",
            "                                                Comment Pattern Category  \\\n",
            "0                                        Periodic popup     Social Proof   \n",
            "1                                        Periodic popup     Social Proof   \n",
            "2                                        Periodic popup     Social Proof   \n",
            "3                                        Product detail     Social Proof   \n",
            "4                                        Periodic popup     Social Proof   \n",
            "...                                                 ...              ...   \n",
            "1813           Website adds free items to show discount     Misdirection   \n",
            "1814                       Popup asking you to buy more     Misdirection   \n",
            "1815  Deterministic draw. Always give you the prize ...     Misdirection   \n",
            "1816  Shows you prices in the popup based on your cu...     Misdirection   \n",
            "1817                Adds free gifts to inflate discount     Misdirection   \n",
            "\n",
            "               Pattern Type Where in website? Deceptive?  \\\n",
            "0     Activity Notification      Product Page         No   \n",
            "1     Activity Notification      Product Page         No   \n",
            "2     Activity Notification      Product Page         No   \n",
            "3     Activity Notification      Product Page         No   \n",
            "4     Activity Notification      Product Page         No   \n",
            "...                     ...               ...        ...   \n",
            "1813    Visual Interference         Cart Page         No   \n",
            "1814    Visual Interference      Product Page         No   \n",
            "1815    Visual Interference      Product Page        Yes   \n",
            "1816    Visual Interference      Product Page         No   \n",
            "1817    Visual Interference         Cart Page         No   \n",
            "\n",
            "                                           Website Page   00   02   10  ...  \\\n",
            "0     https://alaindupetit.com/collections/all-suits...  0.0  0.0  0.0  ...   \n",
            "1     https://bonescoffee.com/products/strawberry-ch...  0.0  0.0  0.0  ...   \n",
            "2     https://brandsego.com/collections/under-rs-99/...  0.0  0.0  0.0  ...   \n",
            "3     https://brightechshop.com/products/ambience-so...  0.0  0.0  0.0  ...   \n",
            "4                                https://bumpboxes.com/  0.0  0.0  0.0  ...   \n",
            "...                                                 ...  ...  ...  ...  ...   \n",
            "1813  https://www.planetofthevapes.com/products/plan...  0.0  0.0  0.0  ...   \n",
            "1814  https://www.rockymountainoils.com/single-essen...  0.0  0.0  0.0  ...   \n",
            "1815                        https://www.sammydress.com/  0.0  0.0  0.0  ...   \n",
            "1816  https://www.shoedazzle.com/products/FEELIN-A-L...  0.0  0.0  0.0  ...   \n",
            "1817  https://www.wildsecrets.com.au/p/186468/pipedr...  0.0  0.0  0.0  ...   \n",
            "\n",
            "      wording  worth  would  www  year       you     your  youto   yr  zero  \n",
            "0         0.0    0.0    0.0  0.0   0.0  0.000000  0.00000    0.0  0.0   0.0  \n",
            "1         0.0    0.0    0.0  0.0   0.0  0.000000  0.00000    0.0  0.0   0.0  \n",
            "2         0.0    0.0    0.0  0.0   0.0  0.000000  0.00000    0.0  0.0   0.0  \n",
            "3         0.0    0.0    0.0  0.0   0.0  0.000000  0.00000    0.0  0.0   0.0  \n",
            "4         0.0    0.0    0.0  0.0   0.0  0.000000  0.00000    0.0  0.0   0.0  \n",
            "...       ...    ...    ...  ...   ...       ...      ...    ...  ...   ...  \n",
            "1813      0.0    0.0    0.0  0.0   0.0  0.000000  0.00000    0.0  0.0   0.0  \n",
            "1814      0.0    0.0    0.0  0.0   0.0  0.405250  0.00000    0.0  0.0   0.0  \n",
            "1815      0.0    0.0    0.0  0.0   0.0  0.190567  0.00000    0.0  0.0   0.0  \n",
            "1816      0.0    0.0    0.0  0.0   0.0  0.155251  0.21331    0.0  0.0   0.0  \n",
            "1817      0.0    0.0    0.0  0.0   0.0  0.000000  0.00000    0.0  0.0   0.0  \n",
            "\n",
            "[1818 rows x 542 columns]\n"
          ]
        }
      ]
    },
    {
      "cell_type": "code",
      "source": [
        "# features['Comment'] = data['Comment']\n",
        "# features['Pattern Type'] = data['Pattern Type']\n",
        "# features['location'] = data['Where in website?']\n",
        "# features['Deceptive'] = data ['Deceptive?']"
      ],
      "metadata": {
        "id": "Ve_wZMIo-5Mv"
      },
      "execution_count": null,
      "outputs": []
    },
    {
      "cell_type": "code",
      "source": [
        "X = features\n",
        "X_train, X_test, y_train, y_test = train_test_split(X, y, test_size=0.2, random_state=42)"
      ],
      "metadata": {
        "id": "ji7c3eJRnJEl"
      },
      "execution_count": null,
      "outputs": []
    },
    {
      "source": [
        "print(y_train.value_counts())"
      ],
      "cell_type": "code",
      "metadata": {
        "colab": {
          "base_uri": "https://localhost:8080/"
        },
        "id": "F_XTEYN4nxx-",
        "outputId": "acb31245-2847-4f24-c0b7-ff864b02bae3"
      },
      "execution_count": null,
      "outputs": [
        {
          "output_type": "stream",
          "name": "stdout",
          "text": [
            "Pattern Category\n",
            "Scarcity         546\n",
            "Urgency          393\n",
            "Social Proof     266\n",
            "Misdirection     198\n",
            "Obstruction       24\n",
            "Sneaking          21\n",
            "Forced Action      6\n",
            "Name: count, dtype: int64\n"
          ]
        }
      ]
    },
    {
      "cell_type": "markdown",
      "source": [
        "# **Model**"
      ],
      "metadata": {
        "id": "aN2pgiYaivYG"
      }
    },
    {
      "cell_type": "markdown",
      "source": [
        "## **로지스틱 회귀**"
      ],
      "metadata": {
        "id": "sV9jnnOXiyPd"
      }
    },
    {
      "cell_type": "code",
      "source": [
        "model = LogisticRegression()\n",
        "model.fit(X_train, y_train)\n"
      ],
      "metadata": {
        "colab": {
          "base_uri": "https://localhost:8080/",
          "height": 74
        },
        "id": "dLHaAiB4tkQC",
        "outputId": "8bfdf761-bed0-463b-f7bf-d3fea94d88ca"
      },
      "execution_count": null,
      "outputs": [
        {
          "output_type": "execute_result",
          "data": {
            "text/plain": [
              "LogisticRegression()"
            ],
            "text/html": [
              "<style>#sk-container-id-1 {color: black;background-color: white;}#sk-container-id-1 pre{padding: 0;}#sk-container-id-1 div.sk-toggleable {background-color: white;}#sk-container-id-1 label.sk-toggleable__label {cursor: pointer;display: block;width: 100%;margin-bottom: 0;padding: 0.3em;box-sizing: border-box;text-align: center;}#sk-container-id-1 label.sk-toggleable__label-arrow:before {content: \"▸\";float: left;margin-right: 0.25em;color: #696969;}#sk-container-id-1 label.sk-toggleable__label-arrow:hover:before {color: black;}#sk-container-id-1 div.sk-estimator:hover label.sk-toggleable__label-arrow:before {color: black;}#sk-container-id-1 div.sk-toggleable__content {max-height: 0;max-width: 0;overflow: hidden;text-align: left;background-color: #f0f8ff;}#sk-container-id-1 div.sk-toggleable__content pre {margin: 0.2em;color: black;border-radius: 0.25em;background-color: #f0f8ff;}#sk-container-id-1 input.sk-toggleable__control:checked~div.sk-toggleable__content {max-height: 200px;max-width: 100%;overflow: auto;}#sk-container-id-1 input.sk-toggleable__control:checked~label.sk-toggleable__label-arrow:before {content: \"▾\";}#sk-container-id-1 div.sk-estimator input.sk-toggleable__control:checked~label.sk-toggleable__label {background-color: #d4ebff;}#sk-container-id-1 div.sk-label input.sk-toggleable__control:checked~label.sk-toggleable__label {background-color: #d4ebff;}#sk-container-id-1 input.sk-hidden--visually {border: 0;clip: rect(1px 1px 1px 1px);clip: rect(1px, 1px, 1px, 1px);height: 1px;margin: -1px;overflow: hidden;padding: 0;position: absolute;width: 1px;}#sk-container-id-1 div.sk-estimator {font-family: monospace;background-color: #f0f8ff;border: 1px dotted black;border-radius: 0.25em;box-sizing: border-box;margin-bottom: 0.5em;}#sk-container-id-1 div.sk-estimator:hover {background-color: #d4ebff;}#sk-container-id-1 div.sk-parallel-item::after {content: \"\";width: 100%;border-bottom: 1px solid gray;flex-grow: 1;}#sk-container-id-1 div.sk-label:hover label.sk-toggleable__label {background-color: #d4ebff;}#sk-container-id-1 div.sk-serial::before {content: \"\";position: absolute;border-left: 1px solid gray;box-sizing: border-box;top: 0;bottom: 0;left: 50%;z-index: 0;}#sk-container-id-1 div.sk-serial {display: flex;flex-direction: column;align-items: center;background-color: white;padding-right: 0.2em;padding-left: 0.2em;position: relative;}#sk-container-id-1 div.sk-item {position: relative;z-index: 1;}#sk-container-id-1 div.sk-parallel {display: flex;align-items: stretch;justify-content: center;background-color: white;position: relative;}#sk-container-id-1 div.sk-item::before, #sk-container-id-1 div.sk-parallel-item::before {content: \"\";position: absolute;border-left: 1px solid gray;box-sizing: border-box;top: 0;bottom: 0;left: 50%;z-index: -1;}#sk-container-id-1 div.sk-parallel-item {display: flex;flex-direction: column;z-index: 1;position: relative;background-color: white;}#sk-container-id-1 div.sk-parallel-item:first-child::after {align-self: flex-end;width: 50%;}#sk-container-id-1 div.sk-parallel-item:last-child::after {align-self: flex-start;width: 50%;}#sk-container-id-1 div.sk-parallel-item:only-child::after {width: 0;}#sk-container-id-1 div.sk-dashed-wrapped {border: 1px dashed gray;margin: 0 0.4em 0.5em 0.4em;box-sizing: border-box;padding-bottom: 0.4em;background-color: white;}#sk-container-id-1 div.sk-label label {font-family: monospace;font-weight: bold;display: inline-block;line-height: 1.2em;}#sk-container-id-1 div.sk-label-container {text-align: center;}#sk-container-id-1 div.sk-container {/* jupyter's `normalize.less` sets `[hidden] { display: none; }` but bootstrap.min.css set `[hidden] { display: none !important; }` so we also need the `!important` here to be able to override the default hidden behavior on the sphinx rendered scikit-learn.org. See: https://github.com/scikit-learn/scikit-learn/issues/21755 */display: inline-block !important;position: relative;}#sk-container-id-1 div.sk-text-repr-fallback {display: none;}</style><div id=\"sk-container-id-1\" class=\"sk-top-container\"><div class=\"sk-text-repr-fallback\"><pre>LogisticRegression()</pre><b>In a Jupyter environment, please rerun this cell to show the HTML representation or trust the notebook. <br />On GitHub, the HTML representation is unable to render, please try loading this page with nbviewer.org.</b></div><div class=\"sk-container\" hidden><div class=\"sk-item\"><div class=\"sk-estimator sk-toggleable\"><input class=\"sk-toggleable__control sk-hidden--visually\" id=\"sk-estimator-id-1\" type=\"checkbox\" checked><label for=\"sk-estimator-id-1\" class=\"sk-toggleable__label sk-toggleable__label-arrow\">LogisticRegression</label><div class=\"sk-toggleable__content\"><pre>LogisticRegression()</pre></div></div></div></div></div>"
            ]
          },
          "metadata": {},
          "execution_count": 28
        }
      ]
    },
    {
      "cell_type": "code",
      "source": [
        "y_pred = model.predict(X_test)"
      ],
      "metadata": {
        "id": "95KgpCI2tksN"
      },
      "execution_count": null,
      "outputs": []
    },
    {
      "cell_type": "code",
      "source": [
        "accuracy = accuracy_score(y_test, y_pred)\n",
        "print(\"Accuracy:\", accuracy)"
      ],
      "metadata": {
        "colab": {
          "base_uri": "https://localhost:8080/"
        },
        "id": "ZuE2yeq9tlsE",
        "outputId": "882b78c9-d831-48de-9d9c-a9cade540924"
      },
      "execution_count": null,
      "outputs": [
        {
          "output_type": "stream",
          "name": "stdout",
          "text": [
            "Accuracy: 0.9010989010989011\n"
          ]
        }
      ]
    },
    {
      "cell_type": "code",
      "source": [
        "print(\"Classification Report:\")\n",
        "print(classification_report(y_test, y_pred))"
      ],
      "metadata": {
        "colab": {
          "base_uri": "https://localhost:8080/"
        },
        "id": "CYoZGIVatvoL",
        "outputId": "f09cf3df-18bf-419d-b682-56dcdc29026a"
      },
      "execution_count": null,
      "outputs": [
        {
          "output_type": "stream",
          "name": "stdout",
          "text": [
            "Classification Report:\n",
            "              precision    recall  f1-score   support\n",
            "\n",
            "Misdirection       0.93      0.75      0.83        72\n",
            " Obstruction       1.00      0.71      0.83         7\n",
            "    Scarcity       0.97      0.98      0.98       133\n",
            "    Sneaking       0.00      0.00      0.00         5\n",
            "Social Proof       0.90      0.97      0.93        59\n",
            "     Urgency       0.79      0.92      0.85        88\n",
            "\n",
            "    accuracy                           0.90       364\n",
            "   macro avg       0.77      0.72      0.74       364\n",
            "weighted avg       0.89      0.90      0.89       364\n",
            "\n"
          ]
        },
        {
          "output_type": "stream",
          "name": "stderr",
          "text": [
            "/usr/local/lib/python3.10/dist-packages/sklearn/metrics/_classification.py:1344: UndefinedMetricWarning: Precision and F-score are ill-defined and being set to 0.0 in labels with no predicted samples. Use `zero_division` parameter to control this behavior.\n",
            "  _warn_prf(average, modifier, msg_start, len(result))\n",
            "/usr/local/lib/python3.10/dist-packages/sklearn/metrics/_classification.py:1344: UndefinedMetricWarning: Precision and F-score are ill-defined and being set to 0.0 in labels with no predicted samples. Use `zero_division` parameter to control this behavior.\n",
            "  _warn_prf(average, modifier, msg_start, len(result))\n",
            "/usr/local/lib/python3.10/dist-packages/sklearn/metrics/_classification.py:1344: UndefinedMetricWarning: Precision and F-score are ill-defined and being set to 0.0 in labels with no predicted samples. Use `zero_division` parameter to control this behavior.\n",
            "  _warn_prf(average, modifier, msg_start, len(result))\n"
          ]
        }
      ]
    },
    {
      "cell_type": "markdown",
      "source": [
        "## **Random Forest**\n"
      ],
      "metadata": {
        "id": "WyuTepTtmq_9"
      }
    },
    {
      "cell_type": "code",
      "source": [
        "RFC = RandomForestClassifier(random_state=42)\n",
        "RFC.fit(X_train, y_train)"
      ],
      "metadata": {
        "colab": {
          "base_uri": "https://localhost:8080/",
          "height": 74
        },
        "id": "HhIiwOq9mumJ",
        "outputId": "4b157fea-4b08-479c-c3ec-75ad68989f13"
      },
      "execution_count": null,
      "outputs": [
        {
          "output_type": "execute_result",
          "data": {
            "text/plain": [
              "RandomForestClassifier(random_state=42)"
            ],
            "text/html": [
              "<style>#sk-container-id-2 {color: black;background-color: white;}#sk-container-id-2 pre{padding: 0;}#sk-container-id-2 div.sk-toggleable {background-color: white;}#sk-container-id-2 label.sk-toggleable__label {cursor: pointer;display: block;width: 100%;margin-bottom: 0;padding: 0.3em;box-sizing: border-box;text-align: center;}#sk-container-id-2 label.sk-toggleable__label-arrow:before {content: \"▸\";float: left;margin-right: 0.25em;color: #696969;}#sk-container-id-2 label.sk-toggleable__label-arrow:hover:before {color: black;}#sk-container-id-2 div.sk-estimator:hover label.sk-toggleable__label-arrow:before {color: black;}#sk-container-id-2 div.sk-toggleable__content {max-height: 0;max-width: 0;overflow: hidden;text-align: left;background-color: #f0f8ff;}#sk-container-id-2 div.sk-toggleable__content pre {margin: 0.2em;color: black;border-radius: 0.25em;background-color: #f0f8ff;}#sk-container-id-2 input.sk-toggleable__control:checked~div.sk-toggleable__content {max-height: 200px;max-width: 100%;overflow: auto;}#sk-container-id-2 input.sk-toggleable__control:checked~label.sk-toggleable__label-arrow:before {content: \"▾\";}#sk-container-id-2 div.sk-estimator input.sk-toggleable__control:checked~label.sk-toggleable__label {background-color: #d4ebff;}#sk-container-id-2 div.sk-label input.sk-toggleable__control:checked~label.sk-toggleable__label {background-color: #d4ebff;}#sk-container-id-2 input.sk-hidden--visually {border: 0;clip: rect(1px 1px 1px 1px);clip: rect(1px, 1px, 1px, 1px);height: 1px;margin: -1px;overflow: hidden;padding: 0;position: absolute;width: 1px;}#sk-container-id-2 div.sk-estimator {font-family: monospace;background-color: #f0f8ff;border: 1px dotted black;border-radius: 0.25em;box-sizing: border-box;margin-bottom: 0.5em;}#sk-container-id-2 div.sk-estimator:hover {background-color: #d4ebff;}#sk-container-id-2 div.sk-parallel-item::after {content: \"\";width: 100%;border-bottom: 1px solid gray;flex-grow: 1;}#sk-container-id-2 div.sk-label:hover label.sk-toggleable__label {background-color: #d4ebff;}#sk-container-id-2 div.sk-serial::before {content: \"\";position: absolute;border-left: 1px solid gray;box-sizing: border-box;top: 0;bottom: 0;left: 50%;z-index: 0;}#sk-container-id-2 div.sk-serial {display: flex;flex-direction: column;align-items: center;background-color: white;padding-right: 0.2em;padding-left: 0.2em;position: relative;}#sk-container-id-2 div.sk-item {position: relative;z-index: 1;}#sk-container-id-2 div.sk-parallel {display: flex;align-items: stretch;justify-content: center;background-color: white;position: relative;}#sk-container-id-2 div.sk-item::before, #sk-container-id-2 div.sk-parallel-item::before {content: \"\";position: absolute;border-left: 1px solid gray;box-sizing: border-box;top: 0;bottom: 0;left: 50%;z-index: -1;}#sk-container-id-2 div.sk-parallel-item {display: flex;flex-direction: column;z-index: 1;position: relative;background-color: white;}#sk-container-id-2 div.sk-parallel-item:first-child::after {align-self: flex-end;width: 50%;}#sk-container-id-2 div.sk-parallel-item:last-child::after {align-self: flex-start;width: 50%;}#sk-container-id-2 div.sk-parallel-item:only-child::after {width: 0;}#sk-container-id-2 div.sk-dashed-wrapped {border: 1px dashed gray;margin: 0 0.4em 0.5em 0.4em;box-sizing: border-box;padding-bottom: 0.4em;background-color: white;}#sk-container-id-2 div.sk-label label {font-family: monospace;font-weight: bold;display: inline-block;line-height: 1.2em;}#sk-container-id-2 div.sk-label-container {text-align: center;}#sk-container-id-2 div.sk-container {/* jupyter's `normalize.less` sets `[hidden] { display: none; }` but bootstrap.min.css set `[hidden] { display: none !important; }` so we also need the `!important` here to be able to override the default hidden behavior on the sphinx rendered scikit-learn.org. See: https://github.com/scikit-learn/scikit-learn/issues/21755 */display: inline-block !important;position: relative;}#sk-container-id-2 div.sk-text-repr-fallback {display: none;}</style><div id=\"sk-container-id-2\" class=\"sk-top-container\"><div class=\"sk-text-repr-fallback\"><pre>RandomForestClassifier(random_state=42)</pre><b>In a Jupyter environment, please rerun this cell to show the HTML representation or trust the notebook. <br />On GitHub, the HTML representation is unable to render, please try loading this page with nbviewer.org.</b></div><div class=\"sk-container\" hidden><div class=\"sk-item\"><div class=\"sk-estimator sk-toggleable\"><input class=\"sk-toggleable__control sk-hidden--visually\" id=\"sk-estimator-id-2\" type=\"checkbox\" checked><label for=\"sk-estimator-id-2\" class=\"sk-toggleable__label sk-toggleable__label-arrow\">RandomForestClassifier</label><div class=\"sk-toggleable__content\"><pre>RandomForestClassifier(random_state=42)</pre></div></div></div></div></div>"
            ]
          },
          "metadata": {},
          "execution_count": 32
        }
      ]
    },
    {
      "cell_type": "code",
      "source": [
        "y_pred = RFC.predict(X_test)"
      ],
      "metadata": {
        "id": "h4bEwaoDHxSd"
      },
      "execution_count": null,
      "outputs": []
    },
    {
      "cell_type": "code",
      "source": [
        "accuracy = accuracy_score(y_test, y_pred)\n",
        "print(\"Accuracy:\", accuracy)"
      ],
      "metadata": {
        "colab": {
          "base_uri": "https://localhost:8080/"
        },
        "outputId": "8d538281-0537-4860-f0d6-f263799d3e20",
        "id": "kjxiDAKOHxSe"
      },
      "execution_count": null,
      "outputs": [
        {
          "output_type": "stream",
          "name": "stdout",
          "text": [
            "Accuracy: 0.9038461538461539\n"
          ]
        }
      ]
    },
    {
      "cell_type": "code",
      "source": [
        "print(\"Classification Report:\")\n",
        "print(classification_report(y_test, y_pred))"
      ],
      "metadata": {
        "colab": {
          "base_uri": "https://localhost:8080/"
        },
        "outputId": "043b3fe0-3aa3-451e-eb64-35c3a239fab3",
        "id": "ZZrwetoKHxSe"
      },
      "execution_count": null,
      "outputs": [
        {
          "output_type": "stream",
          "name": "stdout",
          "text": [
            "Classification Report:\n",
            "              precision    recall  f1-score   support\n",
            "\n",
            "Misdirection       0.93      0.78      0.85        72\n",
            " Obstruction       1.00      0.86      0.92         7\n",
            "    Scarcity       0.97      0.97      0.97       133\n",
            "    Sneaking       0.00      0.00      0.00         5\n",
            "Social Proof       0.97      0.97      0.97        59\n",
            "     Urgency       0.76      0.92      0.84        88\n",
            "\n",
            "    accuracy                           0.90       364\n",
            "   macro avg       0.77      0.75      0.76       364\n",
            "weighted avg       0.90      0.90      0.90       364\n",
            "\n"
          ]
        },
        {
          "output_type": "stream",
          "name": "stderr",
          "text": [
            "/usr/local/lib/python3.10/dist-packages/sklearn/metrics/_classification.py:1344: UndefinedMetricWarning: Precision and F-score are ill-defined and being set to 0.0 in labels with no predicted samples. Use `zero_division` parameter to control this behavior.\n",
            "  _warn_prf(average, modifier, msg_start, len(result))\n",
            "/usr/local/lib/python3.10/dist-packages/sklearn/metrics/_classification.py:1344: UndefinedMetricWarning: Precision and F-score are ill-defined and being set to 0.0 in labels with no predicted samples. Use `zero_division` parameter to control this behavior.\n",
            "  _warn_prf(average, modifier, msg_start, len(result))\n",
            "/usr/local/lib/python3.10/dist-packages/sklearn/metrics/_classification.py:1344: UndefinedMetricWarning: Precision and F-score are ill-defined and being set to 0.0 in labels with no predicted samples. Use `zero_division` parameter to control this behavior.\n",
            "  _warn_prf(average, modifier, msg_start, len(result))\n"
          ]
        }
      ]
    },
    {
      "cell_type": "markdown",
      "source": [
        "## **SVM**"
      ],
      "metadata": {
        "id": "vf8wVe0SKRR-"
      }
    },
    {
      "cell_type": "code",
      "source": [
        "import time\n",
        "\n",
        "start = time.time()\n",
        "\n",
        "svm = OneVsRestClassifier(SVC(kernel=\"rbf\", gamma=1, C=10))\n",
        "svm.fit(X_train, y_train)\n",
        "\n",
        "print(\"time :\", time.time() - start)"
      ],
      "metadata": {
        "colab": {
          "base_uri": "https://localhost:8080/"
        },
        "id": "_CAa6sPoKTR7",
        "outputId": "d8243289-44fe-44fb-a06b-227d1a633065"
      },
      "execution_count": null,
      "outputs": [
        {
          "output_type": "stream",
          "name": "stdout",
          "text": [
            "time : 4.3225884437561035\n"
          ]
        }
      ]
    },
    {
      "cell_type": "code",
      "source": [
        "y_pred = svm.predict(X_test)"
      ],
      "metadata": {
        "id": "ucnjLDBaKbhL"
      },
      "execution_count": null,
      "outputs": []
    },
    {
      "cell_type": "code",
      "source": [
        "accuracy = accuracy_score(y_test, y_pred)\n",
        "print(\"Accuracy:\", accuracy)"
      ],
      "metadata": {
        "colab": {
          "base_uri": "https://localhost:8080/"
        },
        "outputId": "cf3ea1bb-b7bc-4752-d7b9-a8abaad76929",
        "id": "K5nJmlD9KbhM"
      },
      "execution_count": null,
      "outputs": [
        {
          "output_type": "stream",
          "name": "stdout",
          "text": [
            "Accuracy: 0.9065934065934066\n"
          ]
        }
      ]
    },
    {
      "cell_type": "code",
      "source": [
        "print(\"Classification Report:\")\n",
        "print(classification_report(y_test, y_pred))"
      ],
      "metadata": {
        "colab": {
          "base_uri": "https://localhost:8080/"
        },
        "outputId": "7cee6346-adaf-4459-abe1-1e4fe23797b5",
        "id": "ZHvkcPr2KbhN"
      },
      "execution_count": null,
      "outputs": [
        {
          "output_type": "stream",
          "name": "stdout",
          "text": [
            "Classification Report:\n",
            "              precision    recall  f1-score   support\n",
            "\n",
            "Misdirection       0.95      0.75      0.84        72\n",
            " Obstruction       1.00      0.86      0.92         7\n",
            "    Scarcity       0.96      0.98      0.97       133\n",
            "    Sneaking       0.00      0.00      0.00         5\n",
            "Social Proof       0.93      0.97      0.95        59\n",
            "     Urgency       0.80      0.93      0.86        88\n",
            "\n",
            "    accuracy                           0.91       364\n",
            "   macro avg       0.77      0.75      0.76       364\n",
            "weighted avg       0.90      0.91      0.90       364\n",
            "\n"
          ]
        },
        {
          "output_type": "stream",
          "name": "stderr",
          "text": [
            "/usr/local/lib/python3.10/dist-packages/sklearn/metrics/_classification.py:1344: UndefinedMetricWarning: Precision and F-score are ill-defined and being set to 0.0 in labels with no predicted samples. Use `zero_division` parameter to control this behavior.\n",
            "  _warn_prf(average, modifier, msg_start, len(result))\n",
            "/usr/local/lib/python3.10/dist-packages/sklearn/metrics/_classification.py:1344: UndefinedMetricWarning: Precision and F-score are ill-defined and being set to 0.0 in labels with no predicted samples. Use `zero_division` parameter to control this behavior.\n",
            "  _warn_prf(average, modifier, msg_start, len(result))\n",
            "/usr/local/lib/python3.10/dist-packages/sklearn/metrics/_classification.py:1344: UndefinedMetricWarning: Precision and F-score are ill-defined and being set to 0.0 in labels with no predicted samples. Use `zero_division` parameter to control this behavior.\n",
            "  _warn_prf(average, modifier, msg_start, len(result))\n"
          ]
        }
      ]
    }
  ]
}